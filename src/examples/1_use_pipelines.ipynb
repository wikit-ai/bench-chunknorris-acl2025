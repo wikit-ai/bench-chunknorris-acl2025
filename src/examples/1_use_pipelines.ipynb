{
 "cells": [
  {
   "cell_type": "markdown",
   "metadata": {},
   "source": [
    "## Usage of pipelines\n",
    "\n",
    "The repo's main features are **pipelines**. Pipelines allow to:\n",
    "- manipulate various PDF parsing librairies with a common interface\n",
    "- plug various chunkers to various parsers"
   ]
  },
  {
   "cell_type": "code",
   "execution_count": null,
   "metadata": {},
   "outputs": [],
   "source": [
    "# Import the pipelines you wish to use\n",
    "from src.pipelines.chunknorris import ChunkNorrisPipeline"
   ]
  },
  {
   "cell_type": "code",
   "execution_count": null,
   "metadata": {},
   "outputs": [],
   "source": [
    "pipeline = ChunkNorrisPipeline()\n",
    "# You can now use a pipeline to parse and chunk pdf files\n",
    "# Step 1: ALWAYS parse first\n",
    "pipeline.parse_file(\"path/to/file.pdf\")\n",
    "# Get Markdown string\n",
    "md = pipeline.to_markdown()\n",
    "# Get chunks\n",
    "chunks = pipeline.chunk()"
   ]
  },
  {
   "cell_type": "markdown",
   "metadata": {},
   "source": [
    "By default, the pipeline's default chunker is used, if the package has one. Alternatively, you way want to use one of the provided chunker"
   ]
  },
  {
   "cell_type": "code",
   "execution_count": null,
   "metadata": {},
   "outputs": [],
   "source": [
    "from src.chunkers.page_chunker import PageChunker\n",
    "from src.pipelines.docling import DoclingPipeline"
   ]
  },
  {
   "cell_type": "code",
   "execution_count": null,
   "metadata": {},
   "outputs": [],
   "source": [
    "# Build pipeline with chunker, and choose device to use\n",
    "pipeline = DoclingPipeline(chunker=PageChunker(), device=\"cuda\")\n",
    "pipeline.parse_file(\"path/to_file.pdf\")\n",
    "chunks = pipeline.chunk()"
   ]
  },
  {
   "cell_type": "code",
   "execution_count": null,
   "metadata": {},
   "outputs": [],
   "source": [
    "# Build pipeline with chunker, and choose device to use\n",
    "pipeline = DoclingPipeline(chunker=PageChunker(), device=\"cuda\")\n",
    "pipeline.parse_file(\"path/to_file.pdf\")\n",
    "chunks = pipeline.chunk()"
   ]
  }
 ],
 "metadata": {
  "kernelspec": {
   "display_name": "bench-chunknorris-acl",
   "language": "python",
   "name": "python3"
  },
  "language_info": {
   "codemirror_mode": {
    "name": "ipython",
    "version": 3
   },
   "file_extension": ".py",
   "mimetype": "text/x-python",
   "name": "python",
   "nbconvert_exporter": "python",
   "pygments_lexer": "ipython3",
   "version": "3.12.8"
  }
 },
 "nbformat": 4,
 "nbformat_minor": 2
}
