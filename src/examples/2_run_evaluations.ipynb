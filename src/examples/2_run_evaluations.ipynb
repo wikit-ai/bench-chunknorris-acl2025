{
 "cells": [
  {
   "cell_type": "markdown",
   "metadata": {},
   "source": [
    "## Run evaluations\n",
    "\n",
    "This notebook shows examples on how to run parsing and chunking evaluations"
   ]
  },
  {
   "cell_type": "markdown",
   "metadata": {},
   "source": [
    "### Parsing evaluation (speed and energy consumption)"
   ]
  },
  {
   "cell_type": "code",
   "execution_count": null,
   "metadata": {},
   "outputs": [],
   "source": [
    "from src.utils import get_pdf_filepaths\n",
    "from src.evaluation.parsing_evaluator import ParsingEvaluator\n",
    "from src.pipelines.chunknorris_pipeline import ChunkNorrisPipeline # or any other pipeline"
   ]
  },
  {
   "cell_type": "code",
   "execution_count": null,
   "metadata": {},
   "outputs": [],
   "source": [
    "filepaths = get_pdf_filepaths(\"path/to/folder\")\n",
    "pipeline = ChunkNorrisPipeline()\n",
    "parsing_eval = ParsingEvaluator(pipeline) # results will be saved in \"./results\" folder by default\n",
    "parsing_eval.evaluate_parsing(filepaths)"
   ]
  },
  {
   "cell_type": "markdown",
   "metadata": {},
   "source": [
    "### Chunking evaluation (recall and NDCG)"
   ]
  },
  {
   "cell_type": "code",
   "execution_count": null,
   "metadata": {},
   "outputs": [],
   "source": [
    "from src.evaluation.chunking_evaluator import ChunkingEvaluator\n",
    "from src.pipelines.chunknorris_pipeline import ChunkNorrisPipeline # or any pipeline used for parsing\n",
    "from src.chunkers.page_chunker import PageChunker # or any chunker\n",
    "from src.utils import get_pdf_filepaths"
   ]
  },
  {
   "cell_type": "code",
   "execution_count": null,
   "metadata": {},
   "outputs": [],
   "source": [
    "pdf_filepaths = get_pdf_filepaths(\"path/to/pdf_files_dir\")\n",
    "chunking_eval = ChunkingEvaluator(\n",
    "    pipeline=ChunkNorrisPipeline(),\n",
    "    chunkers=[PageChunker(), None], # <-- We pass \"None\" as a chunker to also use the pipeline's default chunker\n",
    ")\n",
    "# Results will be saved by default in \"./results\" folder\n",
    "chunking_eval.evaluate_chunking(pdf_filepaths)"
   ]
  },
  {
   "cell_type": "markdown",
   "metadata": {},
   "source": [
    "You may want to run the evaluation on another embedding model, **without rerunning the parsing and chunking**. In that case you can just reuse the obtained chunks. In that case you can use the following snippet."
   ]
  },
  {
   "cell_type": "code",
   "execution_count": null,
   "metadata": {},
   "outputs": [],
   "source": [
    "from src.evaluation.chunking_evaluator_utils import chunks_to_dataset"
   ]
  },
  {
   "cell_type": "code",
   "execution_count": null,
   "metadata": {},
   "outputs": [],
   "source": [
    "# load the chunks.json file as a datasetdict\n",
    "datasetdict = chunks_to_dataset(\"path/to/chunk.json\")\n",
    "chunking_eval.run_chunking_evaluation(\n",
    "    datasetdict,\n",
    "    sentence_transformer_hf_repo=\"path_to_hf_repo/sentence_transformer_compatible\"\n",
    "    )"
   ]
  }
 ],
 "metadata": {
  "kernelspec": {
   "display_name": "bench-chunknorris-acl",
   "language": "python",
   "name": "python3"
  },
  "language_info": {
   "codemirror_mode": {
    "name": "ipython",
    "version": 3
   },
   "file_extension": ".py",
   "mimetype": "text/x-python",
   "name": "python",
   "nbconvert_exporter": "python",
   "pygments_lexer": "ipython3",
   "version": "3.12.8"
  }
 },
 "nbformat": 4,
 "nbformat_minor": 2
}
