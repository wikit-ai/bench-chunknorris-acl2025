{
 "cells": [
  {
   "cell_type": "markdown",
   "metadata": {},
   "source": [
    "## Plots\n",
    "\n",
    "This notebooks contains the code relative to the construction of plots"
   ]
  },
  {
   "cell_type": "code",
   "execution_count": null,
   "metadata": {},
   "outputs": [],
   "source": [
    "import os\n",
    "import pandas as pd\n",
    "import plotly.graph_objects as go"
   ]
  },
  {
   "cell_type": "code",
   "execution_count": null,
   "metadata": {},
   "outputs": [],
   "source": [
    "res_to_plot = \"single\" # \"single\" or \"multi\"\n",
    "to_plot = \"Recall\" # \"Recall\" or \"NDCG\"\n",
    "\n",
    "\n",
    "retrieval_perfs = pd.read_json(f\"results/recalls_ndcg/recall_ndcg_{res_to_plot}.json\", orient=\"records\")\n",
    "agg = retrieval_perfs.groupby([\"parser\", \"chunker\"])[[\"recall\", \"ndcg\"]].aggregate([\"mean\", \"std\"]).round(2)\n",
    "agg = agg.reset_index()\n",
    "\n",
    "parser_name_mapping = {\n",
    "    \"PyPDF\": \"base\",\n",
    "    \"ChunkNorris\": \"chunknorris\",\n",
    "    \"Docling\": \"docling\",\n",
    "    \"Marker\": \"marker\",\n",
    "    \"Open-Parse-P\": \"openparsecpu\",\n",
    "    \"Open-Parse-U\": \"openparsegpu\",\n",
    "}\n",
    "agg[\"parser\"] = agg[\"parser\"].map({v:k for k, v in parser_name_mapping.items()})\n",
    "\n",
    "chunker_name_mapping = {\n",
    "    \"PageChunker\": \"PC\",\n",
    "    \"RecursiveCharacterChunker\": \"RCC\",\n",
    "    \"Default\": \"Default\"\n",
    "}\n",
    "agg[\"chunker\"] = agg[\"chunker\"].map(chunker_name_mapping)\n",
    "\n",
    "agg.loc[agg[\"chunker\"] == \"Default\", \"chunker\"] = agg[agg[\"chunker\"] == \"Default\"][\"parser\"].tolist()\n",
    "agg[\"chunker\"] = agg[\"chunker\"].str.replace(\"-P\", \"\").str.replace(\"-U\", \"\")\n",
    "agg = agg.rename({\"recall\": \"Recall\", \"ndcg\": \"NDCG\"}, axis=1)\n",
    "agg = agg.sort_values(by=[\"chunker\"])\n",
    "agg"
   ]
  },
  {
   "cell_type": "code",
   "execution_count": null,
   "metadata": {},
   "outputs": [],
   "source": [
    "colors_mapping = {\n",
    "    \"ChunkNorris\": \"#2A3466\",\n",
    "    \"Docling\": \"#5849BB\",\n",
    "    \"Marker\": \"#5C00B8\",\n",
    "    \"Open-Parse-P\": \"#477CE4\",\n",
    "    \"Open-Parse-U\": \"#4CCCE6\",\n",
    "    \"PyPDF\": \"#8FF5F6\",\n",
    "}\n",
    "\n",
    "pattern_mapping = {\n",
    "    \"Default\": \"\",\n",
    "    \"PC\": \"x\",\n",
    "    \"RCC\": \"+\",\n",
    "}"
   ]
  },
  {
   "cell_type": "code",
   "execution_count": null,
   "metadata": {},
   "outputs": [],
   "source": [
    "fig = go.Figure(\n",
    "    go.Bar(\n",
    "        x=[agg[\"parser\"], agg[\"chunker\"]],\n",
    "        y=agg[to_plot, \"mean\"],\n",
    "        error_y=dict(\n",
    "            type='data',\n",
    "            array=agg[to_plot, \"std\"],\n",
    "            visible=True,\n",
    "            color='lightgray',\n",
    "            thickness=1,\n",
    "            width=3,\n",
    "            ),\n",
    "        # text=agg[to_plot, \"mean\"],\n",
    "        # textposition='outside',\n",
    "        marker_color=[colors_mapping[x] for x in agg[\"parser\"]],\n",
    "        marker_pattern_shape=[pattern_mapping[x] if x in pattern_mapping else \"\" for x in agg[\"chunker\"]],\n",
    "        marker_line_color=\"black\",\n",
    "        textangle=0\n",
    "    )\n",
    ")\n",
    "for (parser, chunker), value in zip(zip(agg[\"parser\"], agg[\"chunker\"]), agg[to_plot, \"mean\"]):\n",
    "    fig.add_annotation(\n",
    "        x=(parser,chunker),\n",
    "        y=.07, \n",
    "        text=str(value),\n",
    "        showarrow=False,\n",
    "        font=(dict(color='white')),\n",
    "        textangle=90,\n",
    "        font_color=\"black\" if colors_mapping[parser] == \"#8FF5F6\" else \"white\",\n",
    "        font_size=14,\n",
    "        bgcolor=colors_mapping[parser],\n",
    "        opacity=0.85,\n",
    "    )\n",
    "\n",
    "fig.update_layout(\n",
    "    xaxis_title_text=\"\",\n",
    "    yaxis_title_text=f\"{to_plot}@10\",\n",
    "    yaxis_range=[0,1.1],\n",
    "    xaxis_color=\"black\",\n",
    "    yaxis_color=\"black\",\n",
    "    width=600,\n",
    "    margin=dict(l=0, r=0, t=0, b=0),\n",
    "    barmode='group',\n",
    "    showlegend=False,\n",
    "    legend=dict(\n",
    "        yanchor=\"top\",\n",
    "        y=1.,\n",
    "        xanchor=\"left\",\n",
    "        x=.6\n",
    "        ),\n",
    "    template=\"plotly_white\",\n",
    "    bargap=0.2,\n",
    "    bargroupgap=0.1,\n",
    "    font_size=14,\n",
    "    )\n",
    "\n",
    "fig.show()"
   ]
  },
  {
   "cell_type": "code",
   "execution_count": null,
   "metadata": {},
   "outputs": [],
   "source": [
    "fig.write_image(f\"outputs/plots/{to_plot}at10_{res_to_plot}chunkdataset.pdf\")"
   ]
  }
 ],
 "metadata": {
  "language_info": {
   "name": "python"
  }
 },
 "nbformat": 4,
 "nbformat_minor": 2
}
